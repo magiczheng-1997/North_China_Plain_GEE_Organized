{
 "cells": [
  {
   "cell_type": "code",
   "execution_count": 1,
   "metadata": {},
   "outputs": [],
   "source": [
    "import ee\n",
    "import subprocess\n",
    "\n",
    "import pandas as pd\n",
    "import numpy as np"
   ]
  },
  {
   "cell_type": "code",
   "execution_count": 2,
   "metadata": {},
   "outputs": [],
   "source": [
    "ee.Initialize()"
   ]
  },
  {
   "cell_type": "markdown",
   "metadata": {},
   "source": [
    "______________________________________________________________________________________________"
   ]
  },
  {
   "cell_type": "markdown",
   "metadata": {},
   "source": [
    "This program is to make all objects within a GEE_path folder public so that other can use the data in this folder"
   ]
  },
  {
   "cell_type": "markdown",
   "metadata": {},
   "source": [
    "_________________________________________________________________________________________________________"
   ]
  },
  {
   "cell_type": "code",
   "execution_count": null,
   "metadata": {},
   "outputs": [],
   "source": []
  },
  {
   "cell_type": "code",
   "execution_count": 32,
   "metadata": {},
   "outputs": [],
   "source": [
    "#################################__IMPORTANT_#########################################\n",
    "#             This_ACL_Operation_Only_Suitable_For_Folders_of_Depth_0_1              # \n",
    "######################################################################################\n",
    "\n",
    "#_For_example\n",
    "# 1) path-->(object_1,object_2,folder_1, ...)\n",
    "# 2) path-->(collection_1,folder_1,folder_2,object_1)\n",
    "\n",
    "# BUT!!!!\n",
    "# NOT suitable for --> path( folder(folder) )"
   ]
  },
  {
   "cell_type": "markdown",
   "metadata": {},
   "source": [
    "List all items of a GEE root_path"
   ]
  },
  {
   "cell_type": "code",
   "execution_count": null,
   "metadata": {},
   "outputs": [],
   "source": []
  },
  {
   "cell_type": "code",
   "execution_count": 23,
   "metadata": {},
   "outputs": [],
   "source": [
    "# define the root_path\n",
    "root_path = 'users/wangjinzhulala/North_China_Plain'"
   ]
  },
  {
   "cell_type": "code",
   "execution_count": 24,
   "metadata": {},
   "outputs": [],
   "source": [
    "# run the process to get all items from it\n",
    "p = subprocess.run(f'earthengine ls  -m 10000 {root_path}',shell = True,capture_output = True, text = True ).stdout"
   ]
  },
  {
   "cell_type": "code",
   "execution_count": 25,
   "metadata": {},
   "outputs": [],
   "source": [
    "items = p.split('\\n')[2:-1]"
   ]
  },
  {
   "cell_type": "code",
   "execution_count": 26,
   "metadata": {},
   "outputs": [
    {
     "data": {
      "text/plain": [
       "['projects/earthengine-legacy/assets/users/wangjinzhulala/North_China_Plain/0_1_North_China_Plain_Boundary_Climate_Zone',\n",
       " 'projects/earthengine-legacy/assets/users/wangjinzhulala/North_China_Plain/0_1_North_China_Plain_Boundary_Climate_Zone_Rectangel',\n",
       " 'projects/earthengine-legacy/assets/users/wangjinzhulala/North_China_Plain/0_1_North_China_Plain_Climate_segmented_zoning',\n",
       " 'projects/earthengine-legacy/assets/users/wangjinzhulala/North_China_Plain/0_1_North_China_Plain_Fishnet_Select',\n",
       " 'projects/earthengine-legacy/assets/users/wangjinzhulala/North_China_Plain/0_1_North_China_Plain_Full',\n",
       " 'projects/earthengine-legacy/assets/users/wangjinzhulala/North_China_Plain/0_1_North_China_Plain_Full_Cut_4_3',\n",
       " 'projects/earthengine-legacy/assets/users/wangjinzhulala/North_China_Plain/0_1_North_China_Plain_Remain',\n",
       " 'projects/earthengine-legacy/assets/users/wangjinzhulala/North_China_Plain/0_1_North_China_Plain_Remain_6_6',\n",
       " 'projects/earthengine-legacy/assets/users/wangjinzhulala/North_China_Plain/0_2_North_China_Plain_Full_3',\n",
       " 'projects/earthengine-legacy/assets/users/wangjinzhulala/North_China_Plain/0_2_North_China_Plain_Full_Down',\n",
       " 'projects/earthengine-legacy/assets/users/wangjinzhulala/North_China_Plain/0_2_North_China_Plain_Full_Up',\n",
       " 'projects/earthengine-legacy/assets/users/wangjinzhulala/North_China_Plain/0_3_K_Mean_Grid_Points_2017_2019',\n",
       " 'projects/earthengine-legacy/assets/users/wangjinzhulala/North_China_Plain/0_3_K_Mean_NDVI_stratified_Points_2017_2019',\n",
       " 'projects/earthengine-legacy/assets/users/wangjinzhulala/North_China_Plain/0_3_K_Mean_Radom_Points_2017_2019',\n",
       " 'projects/earthengine-legacy/assets/users/wangjinzhulala/North_China_Plain/0_4_Checked_2017_2019_10K',\n",
       " 'projects/earthengine-legacy/assets/users/wangjinzhulala/North_China_Plain/0_4_North_China_Landsat_Path_Point',\n",
       " 'projects/earthengine-legacy/assets/users/wangjinzhulala/North_China_Plain/0_5_North_China_Landsat_Path',\n",
       " 'projects/earthengine-legacy/assets/users/wangjinzhulala/North_China_Plain/0_5_North_China_Landsat_Path_buffer',\n",
       " 'projects/earthengine-legacy/assets/users/wangjinzhulala/North_China_Plain/0_5_cluster_Year_2017_2019_Grid_1000',\n",
       " 'projects/earthengine-legacy/assets/users/wangjinzhulala/North_China_Plain/0_China_East_Middel',\n",
       " 'projects/earthengine-legacy/assets/users/wangjinzhulala/North_China_Plain/0_FishNet_North_China_Plain_400km_Cut',\n",
       " 'projects/earthengine-legacy/assets/users/wangjinzhulala/North_China_Plain/0_FishNet_North_China_Plain_Select',\n",
       " 'projects/earthengine-legacy/assets/users/wangjinzhulala/North_China_Plain/0_North_China_Plain_Cut_Grid',\n",
       " 'projects/earthengine-legacy/assets/users/wangjinzhulala/North_China_Plain/0_North_China_Plain_UTM_50N']"
      ]
     },
     "execution_count": 26,
     "metadata": {},
     "output_type": "execute_result"
    }
   ],
   "source": [
    "items"
   ]
  },
  {
   "cell_type": "code",
   "execution_count": 29,
   "metadata": {},
   "outputs": [
    {
     "data": {
      "text/plain": [
       "['Asset \"projects/earthengine-legacy/assets/users/wangjinzhulala/North_China_Plain/0_North_China_Plain_UTM_50N\" is not a folder or image collection.']"
      ]
     },
     "execution_count": 29,
     "metadata": {},
     "output_type": "execute_result"
    }
   ],
   "source": [
    "subprocess.run(f'earthengine ls users/wangjinzhulala/North_China_Plain/0_North_China_Plain_UTM_50N',\n",
    "                                   shell = True,\n",
    "                                   capture_output = True, \n",
    "                                   text = True ).stdout.split('\\n')[2:-1]"
   ]
  },
  {
   "cell_type": "code",
   "execution_count": null,
   "metadata": {},
   "outputs": [],
   "source": []
  },
  {
   "cell_type": "markdown",
   "metadata": {},
   "source": [
    "Grant access to another email for all objects in all_data"
   ]
  },
  {
   "cell_type": "code",
   "execution_count": null,
   "metadata": {},
   "outputs": [],
   "source": []
  },
  {
   "cell_type": "code",
   "execution_count": 34,
   "metadata": {},
   "outputs": [],
   "source": [
    "# capture all the data from the GEE_asset\n",
    "all_data = []\n",
    "\n",
    "for item in items:\n",
    "    \n",
    "    # get a median result\n",
    "    median_result = subprocess.run(f'earthengine ls {item}',\n",
    "                                   shell = True,\n",
    "                                   capture_output = True, \n",
    "                                   text = True ).stdout.split('\\n')[2:-1]\n",
    "    \n",
    "    # test if the item is a object or a folder/collection\n",
    "    \n",
    "        # if the item is an object, add it to the all_data list\n",
    "    if \"is not a folder or image collection\" in median_result[0]:\n",
    "        all_data.append(item)\n",
    "    else:\n",
    "        # if the item is a folder/collection, add its contained \n",
    "        # objects into the all_data folder\n",
    "        all_data.append(median_result)"
   ]
  },
  {
   "cell_type": "code",
   "execution_count": null,
   "metadata": {},
   "outputs": [],
   "source": []
  },
  {
   "cell_type": "code",
   "execution_count": 35,
   "metadata": {},
   "outputs": [
    {
     "data": {
      "text/plain": [
       "['projects/earthengine-legacy/assets/users/wangjinzhulala/North_China_Plain/0_1_North_China_Plain_Boundary_Climate_Zone',\n",
       " 'projects/earthengine-legacy/assets/users/wangjinzhulala/North_China_Plain/0_1_North_China_Plain_Boundary_Climate_Zone_Rectangel',\n",
       " 'projects/earthengine-legacy/assets/users/wangjinzhulala/North_China_Plain/0_1_North_China_Plain_Climate_segmented_zoning',\n",
       " 'projects/earthengine-legacy/assets/users/wangjinzhulala/North_China_Plain/0_1_North_China_Plain_Fishnet_Select',\n",
       " 'projects/earthengine-legacy/assets/users/wangjinzhulala/North_China_Plain/0_1_North_China_Plain_Full',\n",
       " 'projects/earthengine-legacy/assets/users/wangjinzhulala/North_China_Plain/0_1_North_China_Plain_Full_Cut_4_3',\n",
       " 'projects/earthengine-legacy/assets/users/wangjinzhulala/North_China_Plain/0_1_North_China_Plain_Remain',\n",
       " 'projects/earthengine-legacy/assets/users/wangjinzhulala/North_China_Plain/0_1_North_China_Plain_Remain_6_6',\n",
       " 'projects/earthengine-legacy/assets/users/wangjinzhulala/North_China_Plain/0_2_North_China_Plain_Full_3',\n",
       " 'projects/earthengine-legacy/assets/users/wangjinzhulala/North_China_Plain/0_2_North_China_Plain_Full_Down',\n",
       " 'projects/earthengine-legacy/assets/users/wangjinzhulala/North_China_Plain/0_2_North_China_Plain_Full_Up',\n",
       " 'projects/earthengine-legacy/assets/users/wangjinzhulala/North_China_Plain/0_3_K_Mean_Grid_Points_2017_2019',\n",
       " 'projects/earthengine-legacy/assets/users/wangjinzhulala/North_China_Plain/0_3_K_Mean_NDVI_stratified_Points_2017_2019',\n",
       " 'projects/earthengine-legacy/assets/users/wangjinzhulala/North_China_Plain/0_3_K_Mean_Radom_Points_2017_2019',\n",
       " 'projects/earthengine-legacy/assets/users/wangjinzhulala/North_China_Plain/0_4_Checked_2017_2019_10K',\n",
       " 'projects/earthengine-legacy/assets/users/wangjinzhulala/North_China_Plain/0_4_North_China_Landsat_Path_Point',\n",
       " 'projects/earthengine-legacy/assets/users/wangjinzhulala/North_China_Plain/0_5_North_China_Landsat_Path',\n",
       " 'projects/earthengine-legacy/assets/users/wangjinzhulala/North_China_Plain/0_5_North_China_Landsat_Path_buffer',\n",
       " 'projects/earthengine-legacy/assets/users/wangjinzhulala/North_China_Plain/0_5_cluster_Year_2017_2019_Grid_1000',\n",
       " 'projects/earthengine-legacy/assets/users/wangjinzhulala/North_China_Plain/0_China_East_Middel',\n",
       " 'projects/earthengine-legacy/assets/users/wangjinzhulala/North_China_Plain/0_FishNet_North_China_Plain_400km_Cut',\n",
       " 'projects/earthengine-legacy/assets/users/wangjinzhulala/North_China_Plain/0_FishNet_North_China_Plain_Select',\n",
       " 'projects/earthengine-legacy/assets/users/wangjinzhulala/North_China_Plain/0_North_China_Plain_Cut_Grid',\n",
       " 'projects/earthengine-legacy/assets/users/wangjinzhulala/North_China_Plain/0_North_China_Plain_UTM_50N']"
      ]
     },
     "execution_count": 35,
     "metadata": {},
     "output_type": "execute_result"
    }
   ],
   "source": [
    "all_data"
   ]
  },
  {
   "cell_type": "code",
   "execution_count": null,
   "metadata": {},
   "outputs": [],
   "source": []
  },
  {
   "cell_type": "code",
   "execution_count": null,
   "metadata": {},
   "outputs": [],
   "source": []
  },
  {
   "cell_type": "code",
   "execution_count": 38,
   "metadata": {},
   "outputs": [
    {
     "name": "stdout",
     "output_type": "stream",
     "text": [
      "Granting access of assets/users/wangjinzhulala/North_China_Plain/0_1_North_China_Plain_Boundary_Climate_Zone to public\n",
      "Granting access of assets/users/wangjinzhulala/North_China_Plain/0_1_North_China_Plain_Boundary_Climate_Zone_Rectangel to public\n",
      "Granting access of assets/users/wangjinzhulala/North_China_Plain/0_1_North_China_Plain_Climate_segmented_zoning to public\n",
      "Granting access of assets/users/wangjinzhulala/North_China_Plain/0_1_North_China_Plain_Fishnet_Select to public\n",
      "Granting access of assets/users/wangjinzhulala/North_China_Plain/0_1_North_China_Plain_Full to public\n",
      "Granting access of assets/users/wangjinzhulala/North_China_Plain/0_1_North_China_Plain_Full_Cut_4_3 to public\n",
      "Granting access of assets/users/wangjinzhulala/North_China_Plain/0_1_North_China_Plain_Remain to public\n",
      "Granting access of assets/users/wangjinzhulala/North_China_Plain/0_1_North_China_Plain_Remain_6_6 to public\n",
      "Granting access of assets/users/wangjinzhulala/North_China_Plain/0_2_North_China_Plain_Full_3 to public\n",
      "Granting access of assets/users/wangjinzhulala/North_China_Plain/0_2_North_China_Plain_Full_Down to public\n",
      "Granting access of assets/users/wangjinzhulala/North_China_Plain/0_2_North_China_Plain_Full_Up to public\n",
      "Granting access of assets/users/wangjinzhulala/North_China_Plain/0_3_K_Mean_Grid_Points_2017_2019 to public\n",
      "Granting access of assets/users/wangjinzhulala/North_China_Plain/0_3_K_Mean_NDVI_stratified_Points_2017_2019 to public\n",
      "Granting access of assets/users/wangjinzhulala/North_China_Plain/0_3_K_Mean_Radom_Points_2017_2019 to public\n",
      "Granting access of assets/users/wangjinzhulala/North_China_Plain/0_4_Checked_2017_2019_10K to public\n",
      "Granting access of assets/users/wangjinzhulala/North_China_Plain/0_4_North_China_Landsat_Path_Point to public\n",
      "Granting access of assets/users/wangjinzhulala/North_China_Plain/0_5_North_China_Landsat_Path to public\n",
      "Granting access of assets/users/wangjinzhulala/North_China_Plain/0_5_North_China_Landsat_Path_buffer to public\n",
      "Granting access of assets/users/wangjinzhulala/North_China_Plain/0_5_cluster_Year_2017_2019_Grid_1000 to public\n",
      "Granting access of assets/users/wangjinzhulala/North_China_Plain/0_China_East_Middel to public\n",
      "Granting access of assets/users/wangjinzhulala/North_China_Plain/0_FishNet_North_China_Plain_400km_Cut to public\n",
      "Granting access of assets/users/wangjinzhulala/North_China_Plain/0_FishNet_North_China_Plain_Select to public\n",
      "Granting access of assets/users/wangjinzhulala/North_China_Plain/0_North_China_Plain_Cut_Grid to public\n",
      "Granting access of assets/users/wangjinzhulala/North_China_Plain/0_North_China_Plain_UTM_50N to public\n"
     ]
    }
   ],
   "source": [
    "# grant data access to public\n",
    "\n",
    "for obj in all_data:\n",
    "    \n",
    "    subprocess.run(f'earthengine acl set public {obj}',\n",
    "                               shell = True,\n",
    "                               capture_output = True, \n",
    "                               text = True )\n",
    "    # print out the process\n",
    "    split = 'legacy/'\n",
    "    print(f'Granting access of {obj.split(split)[1]} to public')"
   ]
  },
  {
   "cell_type": "code",
   "execution_count": null,
   "metadata": {},
   "outputs": [],
   "source": []
  },
  {
   "cell_type": "code",
   "execution_count": null,
   "metadata": {},
   "outputs": [],
   "source": []
  },
  {
   "cell_type": "code",
   "execution_count": null,
   "metadata": {},
   "outputs": [],
   "source": []
  },
  {
   "cell_type": "code",
   "execution_count": null,
   "metadata": {},
   "outputs": [],
   "source": []
  },
  {
   "cell_type": "code",
   "execution_count": null,
   "metadata": {},
   "outputs": [],
   "source": []
  }
 ],
 "metadata": {
  "kernelspec": {
   "display_name": "Python 3",
   "language": "python",
   "name": "python3"
  },
  "language_info": {
   "codemirror_mode": {
    "name": "ipython",
    "version": 3
   },
   "file_extension": ".py",
   "mimetype": "text/x-python",
   "name": "python",
   "nbconvert_exporter": "python",
   "pygments_lexer": "ipython3",
   "version": "3.7.3"
  }
 },
 "nbformat": 4,
 "nbformat_minor": 2
}
